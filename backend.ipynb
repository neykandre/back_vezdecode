{
 "cells": [
  {
   "cell_type": "code",
   "execution_count": 12,
   "metadata": {
    "collapsed": true,
    "pycharm": {
     "name": "#%%\n"
    }
   },
   "outputs": [],
   "source": [
    "import random\n",
    "\n",
    "import cv2\n",
    "import pandas as pd\n",
    "import numpy as np\n",
    "import vk_api\n",
    "import urllib\n",
    "import requests\n",
    "import sqlite3"
   ]
  },
  {
   "cell_type": "code",
   "execution_count": 13,
   "outputs": [],
   "source": [
    "with open('config') as file:\n",
    "    a = file.readline().split()\n",
    "    number, password, access_token, *_ = a\n",
    "vk_session = vk_api.VkApi(number, password, token=access_token)\n",
    "vk_session.auth()\n",
    "\n",
    "vk = vk_session.get_api()"
   ],
   "metadata": {
    "collapsed": false,
    "pycharm": {
     "name": "#%%\n"
    }
   }
  },
  {
   "cell_type": "code",
   "execution_count": 14,
   "outputs": [],
   "source": [
    "group_domain = 'vezdekod'\n",
    "group_id = -197700721"
   ],
   "metadata": {
    "collapsed": false,
    "pycharm": {
     "name": "#%%\n"
    }
   }
  },
  {
   "cell_type": "code",
   "execution_count": 15,
   "outputs": [],
   "source": [
    "info = vk.photos.getAlbums(owner_id=group_id)\n",
    "\n",
    "memesAlb = []\n",
    "for item in info['items']:\n",
    "    if 'мем' in item['title']:\n",
    "        memesAlb.append(item['id'])\n",
    "\n",
    "photos = []\n",
    "\n",
    "for alb in memesAlb:\n",
    "    photosInfo = vk.photos.get(owner_id=group_id, album_id=alb, extended=1, count=100)\n",
    "    for photo in photosInfo['items']:\n",
    "        photos.append((photo['user_id'], photo['sizes'][-1]['url'], photo['likes']['count']))"
   ],
   "metadata": {
    "collapsed": false,
    "pycharm": {
     "name": "#%%\n"
    }
   }
  },
  {
   "cell_type": "code",
   "execution_count": 16,
   "outputs": [],
   "source": [
    "ids = []\n",
    "paths = []\n",
    "user_ids = []\n",
    "likess = []\n",
    "for n, (user, img, likes) in enumerate(photos):\n",
    "    ids.append(n)\n",
    "    paths.append(f'{n}.jpg')\n",
    "    user_ids.append(user)\n",
    "    likess.append(likes)\n",
    "    img_data = requests.get(img).content\n",
    "    with open(f'photos/{n}.jpg', 'wb') as handler:\n",
    "        handler.write(img_data)"
   ],
   "metadata": {
    "collapsed": false,
    "pycharm": {
     "name": "#%%\n"
    }
   }
  },
  {
   "cell_type": "code",
   "execution_count": 17,
   "outputs": [],
   "source": [
    "group_domain = 'sciencemem'\n",
    "group_id = -159146575"
   ],
   "metadata": {
    "collapsed": false,
    "pycharm": {
     "name": "#%%\n"
    }
   }
  },
  {
   "cell_type": "code",
   "execution_count": 18,
   "outputs": [],
   "source": [
    "offs = 0\n",
    "i = 186\n",
    "while i < 1186:\n",
    "    info = vk.wall.get(domain=group_domain, extended=1, count=100, offset=offs)\n",
    "    for post in info['items']:\n",
    "        if 'attachments' in post.keys() and len(post['attachments']) == 1 and 'photo' in post['attachments'][0].keys():\n",
    "            img_data = requests.get(post['attachments'][0]['photo']['sizes'][-1]['url']).content\n",
    "            with open(f'photos/{i}.jpg', 'wb') as handler:\n",
    "                handler.write(img_data)\n",
    "            ids.append(i)\n",
    "            user_ids.append(post['attachments'][0]['photo']['user_id'])\n",
    "            paths.append(f'{i}.jpg')\n",
    "            likess.append(post['likes']['count'])\n",
    "            i+=1\n",
    "    offs += 100"
   ],
   "metadata": {
    "collapsed": false,
    "pycharm": {
     "name": "#%%\n"
    }
   }
  },
  {
   "cell_type": "code",
   "execution_count": 20,
   "outputs": [
    {
     "data": {
      "text/plain": "<sqlite3.Cursor at 0x1feaa4ce810>"
     },
     "execution_count": 20,
     "metadata": {},
     "output_type": "execute_result"
    }
   ],
   "source": [
    "con = sqlite3.connect('data.db')\n",
    "cur = con.cursor()\n",
    "cur.execute(\"\"\"CREATE TABLE IF NOT EXISTS memes(\n",
    "   id INT PRIMARY KEY,\n",
    "   path TEXT,\n",
    "   user INT,\n",
    "   likes INT);\n",
    "   \"\"\")\n",
    "cur.execute(\"\"\"CREATE TABLE IF NOT EXISTS whitelist(id INT PRIMARY KEY);\"\"\")\n",
    "cur.execute(\"\"\"CREATE TABLE IF NOT EXISTS stat(is_stat INT);\"\"\")"
   ],
   "metadata": {
    "collapsed": false,
    "pycharm": {
     "name": "#%%\n"
    }
   }
  },
  {
   "cell_type": "code",
   "execution_count": 21,
   "outputs": [],
   "source": [
    "cur.execute(\"SELECT is_stat FROM stat;\")\n",
    "if not len(cur.fetchall()):\n",
    "    cur.execute(\"INSERT INTO stat VALUES(0);\")\n",
    "con.commit()"
   ],
   "metadata": {
    "collapsed": false,
    "pycharm": {
     "name": "#%%\n"
    }
   }
  },
  {
   "cell_type": "code",
   "execution_count": 23,
   "outputs": [],
   "source": [
    "for i in range(len(ids)):\n",
    "    cur.execute(\"INSERT OR IGNORE INTO memes VALUES(?, ?, ?, ?);\", (ids[i], paths[i], user_ids[i], likess[i]))"
   ],
   "metadata": {
    "collapsed": false,
    "pycharm": {
     "name": "#%%\n"
    }
   }
  },
  {
   "cell_type": "code",
   "execution_count": 34,
   "outputs": [],
   "source": [
    "def like(id):\n",
    "    cur.execute(f\"SELECT likes from memes WHERE id = {id};\")\n",
    "    likes = cur.fetchall()[0][0]\n",
    "    cur.execute(f\"UPDATE memes SET likes = {likes + 1} WHERE id = {id};\")\n",
    "    cur.execute(\"SELECT * FROM stat\")\n",
    "    is_stat = cur.fetchall()[0][0]\n",
    "    if is_stat:\n",
    "        cur.execute(\"SELECT likes FROM memes\")\n",
    "        alllikes = [i[0] for i in cur.fetchall()]\n",
    "        alllikes = sorted(alllikes)[::-1]\n",
    "        top_likes = alllikes[:5]\n",
    "        top_memes = []\n",
    "        cur.execute(f\"SELECT * FROM memes where likes = {top_likes[0]};\")\n",
    "        top_memes.append(cur.fetchall())\n",
    "        cur.execute(f\"SELECT * FROM memes where likes = {top_likes[1]};\")\n",
    "        top_memes.append(cur.fetchall())\n",
    "        cur.execute(f\"SELECT * FROM memes where likes = {top_likes[2]};\")\n",
    "        top_memes.append(cur.fetchall())\n",
    "        cur.execute(f\"SELECT * FROM memes where likes = {top_likes[3]};\")\n",
    "        top_memes.append(cur.fetchall())\n",
    "        cur.execute(f\"SELECT * FROM memes where likes = {top_likes[4]};\")\n",
    "        top_memes.append(cur.fetchall())\n",
    "        print(\"TOP 5 MEMES:\")\n",
    "        for i, meme in enumerate(top_memes):\n",
    "            print(i + 1, \": \", meme)\n",
    "        cur.execute(f\"SELECT * FROM memes WHERE id = {id};\")\n",
    "        print(cur.fetchall())\n",
    "    con.commit()"
   ],
   "metadata": {
    "collapsed": false,
    "pycharm": {
     "name": "#%%\n"
    }
   }
  },
  {
   "cell_type": "code",
   "execution_count": 25,
   "outputs": [],
   "source": [
    "def new_mem_pokaz(idx):\n",
    "    cur.execute(\"SELECT likes FROM memes;\")\n",
    "    idxs = [i[0] for i in cur.fetchall()]\n",
    "    _len = len(idxs)\n",
    "    con.commit()\n",
    "    while True:\n",
    "        mx = max(idxs) + 1\n",
    "        arr = np.array([mx] * _len)\n",
    "        weights = arr - idxs\n",
    "        mx = max(weights)\n",
    "        weights[idx] = int(2 * mx)\n",
    "        s = np.sum(weights)\n",
    "        weights = weights / s\n",
    "        idxx = np.random.choice(range(_len), p=weights)\n",
    "        cur.execute(f\"SELECT path FROM memes WHERE id = {idxx};\")\n",
    "        title = cur.fetchall()[0][0]\n",
    "        con.commit()\n",
    "        image = cv2.imread(f'photos/{title}')\n",
    "        cv2.imshow('', image)\n",
    "        while True:\n",
    "            key = cv2.waitKey(1)\n",
    "            if key == ord('l'):\n",
    "                like(idxx)\n",
    "                idxs[idxx] += 1\n",
    "                break\n",
    "            elif key == ord('s'):\n",
    "                break\n",
    "            elif key == ord('0'):\n",
    "                return\n",
    "    cv2.destroyAllWindows()"
   ],
   "metadata": {
    "collapsed": false,
    "pycharm": {
     "name": "#%%\n"
    }
   }
  },
  {
   "cell_type": "code",
   "execution_count": 26,
   "outputs": [],
   "source": [
    "def add_to_whitelist(id):\n",
    "    cur.execute(f\"INSERT OR IGNORE INTO whitelist VALUES({id});\")\n",
    "    con.commit()"
   ],
   "metadata": {
    "collapsed": false,
    "pycharm": {
     "name": "#%%\n"
    }
   }
  },
  {
   "cell_type": "code",
   "execution_count": 27,
   "outputs": [],
   "source": [
    "add_to_whitelist(vk.account.getProfileInfo()['id'])"
   ],
   "metadata": {
    "collapsed": false,
    "pycharm": {
     "name": "#%%\n"
    }
   }
  },
  {
   "cell_type": "code",
   "execution_count": 28,
   "outputs": [],
   "source": [
    "def stat():\n",
    "    cur.execute(\"SELECT * FROM whitelist;\")\n",
    "    whitelist = [i[0] for i in cur.fetchall()]\n",
    "    if vk.account.getProfileInfo()['id'] in whitelist:\n",
    "        cur.execute(\"UPDATE stat SET is_stat = 1 WHERE is_stat = 0\")\n",
    "        con.commit()"
   ],
   "metadata": {
    "collapsed": false,
    "pycharm": {
     "name": "#%%\n"
    }
   }
  },
  {
   "cell_type": "code",
   "execution_count": 29,
   "outputs": [],
   "source": [
    "def stop_stat():\n",
    "    cur.execute(\"UPDATE stat SET is_stat = 0 WHERE is_stat = 1\")\n",
    "    con.commit()"
   ],
   "metadata": {
    "collapsed": false,
    "pycharm": {
     "name": "#%%\n"
    }
   }
  },
  {
   "cell_type": "code",
   "execution_count": 30,
   "outputs": [],
   "source": [
    "stat()"
   ],
   "metadata": {
    "collapsed": false,
    "pycharm": {
     "name": "#%%\n"
    }
   }
  },
  {
   "cell_type": "code",
   "execution_count": 35,
   "outputs": [
    {
     "name": "stdout",
     "output_type": "stream",
     "text": [
      "TOP 5 MEMES:\n",
      "1 :  [(186, '186.jpg', 100, 33057)]\n",
      "2 :  [(220, '220.jpg', 100, 30193)]\n",
      "3 :  [(351, '351.jpg', 100, 28222)]\n",
      "4 :  [(259, '259.jpg', 100, 27117)]\n",
      "5 :  [(285, '285.jpg', 100, 22815)]\n",
      "[(471, '471.jpg', 100, 2565)]\n",
      "TOP 5 MEMES:\n",
      "1 :  [(186, '186.jpg', 100, 33057)]\n",
      "2 :  [(220, '220.jpg', 100, 30193)]\n",
      "3 :  [(351, '351.jpg', 100, 28222)]\n",
      "4 :  [(259, '259.jpg', 100, 27117)]\n",
      "5 :  [(285, '285.jpg', 100, 22815)]\n",
      "[(458, '458.jpg', 100, 2201)]\n",
      "TOP 5 MEMES:\n",
      "1 :  [(186, '186.jpg', 100, 33057)]\n",
      "2 :  [(220, '220.jpg', 100, 30193)]\n",
      "3 :  [(351, '351.jpg', 100, 28222)]\n",
      "4 :  [(259, '259.jpg', 100, 27117)]\n",
      "5 :  [(285, '285.jpg', 100, 22815)]\n",
      "[(168, '168.jpg', 163900540, 3)]\n",
      "TOP 5 MEMES:\n",
      "1 :  [(186, '186.jpg', 100, 33057)]\n",
      "2 :  [(220, '220.jpg', 100, 30193)]\n",
      "3 :  [(351, '351.jpg', 100, 28222)]\n",
      "4 :  [(259, '259.jpg', 100, 27117)]\n",
      "5 :  [(285, '285.jpg', 100, 22815)]\n",
      "[(576, '576.jpg', 100, 3357)]\n",
      "TOP 5 MEMES:\n",
      "1 :  [(186, '186.jpg', 100, 33057)]\n",
      "2 :  [(220, '220.jpg', 100, 30193)]\n",
      "3 :  [(351, '351.jpg', 100, 28222)]\n",
      "4 :  [(259, '259.jpg', 100, 27117)]\n",
      "5 :  [(285, '285.jpg', 100, 22815)]\n",
      "[(748, '748.jpg', 100, 2874)]\n",
      "TOP 5 MEMES:\n",
      "1 :  [(186, '186.jpg', 100, 33057)]\n",
      "2 :  [(220, '220.jpg', 100, 30193)]\n",
      "3 :  [(351, '351.jpg', 100, 28222)]\n",
      "4 :  [(259, '259.jpg', 100, 27117)]\n",
      "5 :  [(285, '285.jpg', 100, 22815)]\n",
      "[(374, '374.jpg', 100, 3294)]\n",
      "TOP 5 MEMES:\n",
      "1 :  [(186, '186.jpg', 100, 33057)]\n",
      "2 :  [(220, '220.jpg', 100, 30193)]\n",
      "3 :  [(351, '351.jpg', 100, 28222)]\n",
      "4 :  [(259, '259.jpg', 100, 27117)]\n",
      "5 :  [(285, '285.jpg', 100, 22815)]\n",
      "[(650, '650.jpg', 100, 2061)]\n",
      "TOP 5 MEMES:\n",
      "1 :  [(186, '186.jpg', 100, 33057)]\n",
      "2 :  [(220, '220.jpg', 100, 30193)]\n",
      "3 :  [(351, '351.jpg', 100, 28222)]\n",
      "4 :  [(259, '259.jpg', 100, 27117)]\n",
      "5 :  [(285, '285.jpg', 100, 22815)]\n",
      "[(1051, '1051.jpg', 100, 2921)]\n",
      "TOP 5 MEMES:\n",
      "1 :  [(186, '186.jpg', 100, 33057)]\n",
      "2 :  [(220, '220.jpg', 100, 30193)]\n",
      "3 :  [(351, '351.jpg', 100, 28222)]\n",
      "4 :  [(259, '259.jpg', 100, 27117)]\n",
      "5 :  [(285, '285.jpg', 100, 22815)]\n",
      "[(771, '771.jpg', 100, 3265)]\n",
      "TOP 5 MEMES:\n",
      "1 :  [(186, '186.jpg', 100, 33057)]\n",
      "2 :  [(220, '220.jpg', 100, 30193)]\n",
      "3 :  [(351, '351.jpg', 100, 28222)]\n",
      "4 :  [(259, '259.jpg', 100, 27117)]\n",
      "5 :  [(285, '285.jpg', 100, 22815)]\n",
      "[(307, '307.jpg', 100, 1377)]\n",
      "TOP 5 MEMES:\n",
      "1 :  [(186, '186.jpg', 100, 33057)]\n",
      "2 :  [(220, '220.jpg', 100, 30193)]\n",
      "3 :  [(351, '351.jpg', 100, 28222)]\n",
      "4 :  [(259, '259.jpg', 100, 27117)]\n",
      "5 :  [(285, '285.jpg', 100, 22815)]\n",
      "[(160, '160.jpg', 257444504, 4)]\n"
     ]
    },
    {
     "ename": "KeyboardInterrupt",
     "evalue": "",
     "output_type": "error",
     "traceback": [
      "\u001B[1;31m---------------------------------------------------------------------------\u001B[0m",
      "\u001B[1;31mKeyboardInterrupt\u001B[0m                         Traceback (most recent call last)",
      "\u001B[1;32m~\\AppData\\Local\\Temp/ipykernel_13300/2795854901.py\u001B[0m in \u001B[0;36m<module>\u001B[1;34m\u001B[0m\n\u001B[1;32m----> 1\u001B[1;33m \u001B[0mnew_mem_pokaz\u001B[0m\u001B[1;33m(\u001B[0m\u001B[1;36m0\u001B[0m\u001B[1;33m)\u001B[0m\u001B[1;33m\u001B[0m\u001B[1;33m\u001B[0m\u001B[0m\n\u001B[0m",
      "\u001B[1;32m~\\AppData\\Local\\Temp/ipykernel_13300/533408502.py\u001B[0m in \u001B[0;36mnew_mem_pokaz\u001B[1;34m(idx)\u001B[0m\n\u001B[0;32m     19\u001B[0m         \u001B[0mcv2\u001B[0m\u001B[1;33m.\u001B[0m\u001B[0mimshow\u001B[0m\u001B[1;33m(\u001B[0m\u001B[1;34m''\u001B[0m\u001B[1;33m,\u001B[0m \u001B[0mimage\u001B[0m\u001B[1;33m)\u001B[0m\u001B[1;33m\u001B[0m\u001B[1;33m\u001B[0m\u001B[0m\n\u001B[0;32m     20\u001B[0m         \u001B[1;32mwhile\u001B[0m \u001B[1;32mTrue\u001B[0m\u001B[1;33m:\u001B[0m\u001B[1;33m\u001B[0m\u001B[1;33m\u001B[0m\u001B[0m\n\u001B[1;32m---> 21\u001B[1;33m             \u001B[0mkey\u001B[0m \u001B[1;33m=\u001B[0m \u001B[0mcv2\u001B[0m\u001B[1;33m.\u001B[0m\u001B[0mwaitKey\u001B[0m\u001B[1;33m(\u001B[0m\u001B[1;36m1\u001B[0m\u001B[1;33m)\u001B[0m\u001B[1;33m\u001B[0m\u001B[1;33m\u001B[0m\u001B[0m\n\u001B[0m\u001B[0;32m     22\u001B[0m             \u001B[1;32mif\u001B[0m \u001B[0mkey\u001B[0m \u001B[1;33m==\u001B[0m \u001B[0mord\u001B[0m\u001B[1;33m(\u001B[0m\u001B[1;34m'l'\u001B[0m\u001B[1;33m)\u001B[0m\u001B[1;33m:\u001B[0m\u001B[1;33m\u001B[0m\u001B[1;33m\u001B[0m\u001B[0m\n\u001B[0;32m     23\u001B[0m                 \u001B[0mlike\u001B[0m\u001B[1;33m(\u001B[0m\u001B[0midxx\u001B[0m\u001B[1;33m)\u001B[0m\u001B[1;33m\u001B[0m\u001B[1;33m\u001B[0m\u001B[0m\n",
      "\u001B[1;31mKeyboardInterrupt\u001B[0m: "
     ]
    }
   ],
   "source": [
    "new_mem_pokaz(0)"
   ],
   "metadata": {
    "collapsed": false,
    "pycharm": {
     "name": "#%%\n"
    }
   }
  },
  {
   "cell_type": "code",
   "execution_count": null,
   "outputs": [],
   "source": [],
   "metadata": {
    "collapsed": false,
    "pycharm": {
     "name": "#%%\n"
    }
   }
  }
 ],
 "metadata": {
  "kernelspec": {
   "display_name": "Python 3",
   "language": "python",
   "name": "python3"
  },
  "language_info": {
   "codemirror_mode": {
    "name": "ipython",
    "version": 2
   },
   "file_extension": ".py",
   "mimetype": "text/x-python",
   "name": "python",
   "nbconvert_exporter": "python",
   "pygments_lexer": "ipython2",
   "version": "2.7.6"
  }
 },
 "nbformat": 4,
 "nbformat_minor": 0
}